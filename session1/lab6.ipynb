{
 "cells": [
  {
   "cell_type": "markdown",
   "id": "2101c843",
   "metadata": {},
   "source": [
    "| Resource | HTTPS Verb | Resource URL | Use Case Representation |\n",
    "| :------- | :--------- | :----------- | :---------------------- |\n",
    "| Ticket | POST | `zoo/buy-ticket` | Buying a ticket |\n",
    "| Ticket | GET | `zoo/ticket/<id>` | Getting a ticket |\n",
    "| Ticket | GET | `zoo/ticket/` | Getting all tickets |\n",
    "| Ticket | GET | `zoo/visitor/get-ticket/<id>` | Getting a visitor's ticket |\n",
    "| Visitor | GET | `zoo/visitor/tasks` | Getting visitor tasks |\n",
    "| Visitor | POST | `zoo/visitor/task/<id>` | Visitor choosing a task |\n",
    "| Buildings | GET | `zoo/buildings` | Getting zoo buildings |\n",
    "| Buildings | POST | `zoo/buildings/go-to/<id>` | User going to a location |\n",
    "| Animals | POST | `zoo/visitor/feed-animal/<id>` | Feeding an animal |\n",
    "| Animals | GET | `zoo/animals` | Showing all animals |\n",
    "| Shop | GET | `zoo/shops/products` | Getting all products from all shops |\n",
    "| Shop | GET | `zoo/shops/<id>/products/` | Getting all products from a certain shop |\n",
    "| Shop | POST | `zoo/shops/checkout` | Purchasing a product |\n",
    "| Shop | GET | `zoo/shops/cart` | Showing the cart |\n",
    "| Visitors | POST | `zoo/visitors/exit` | Leaving the zoo |\n",
    "| Buildings | POST | `zoo/buildings/listen-lecture` | Listening to a lecture |\n",
    "| Visitors | GET | `zoo/visitors` | Showing all visitors |\n",
    "| Visitors | GET | `zoo/visitors/<id>` | Getting details of a certain visitor |"
   ]
  },
  {
   "cell_type": "markdown",
   "id": "65c64eca",
   "metadata": {},
   "source": []
  }
 ],
 "metadata": {
  "language_info": {
   "name": "python"
  }
 },
 "nbformat": 4,
 "nbformat_minor": 5
}
